{
 "cells": [
  {
   "cell_type": "markdown",
   "id": "165411f4-eacf-4150-bef1-2c00137528df",
   "metadata": {},
   "source": [
    "# Importing all necessary libraries"
   ]
  },
  {
   "cell_type": "code",
   "execution_count": 1,
   "id": "c805cd4d-8112-4a22-96b2-78bfee896c69",
   "metadata": {},
   "outputs": [],
   "source": [
    "#pip install matplotlib"
   ]
  },
  {
   "cell_type": "code",
   "execution_count": 2,
   "id": "83155490-0c42-4aad-8821-060e8c541a57",
   "metadata": {},
   "outputs": [],
   "source": [
    "#pip install seaborn"
   ]
  },
  {
   "cell_type": "code",
   "execution_count": 3,
   "id": "adc0d526-987e-46de-9cf9-b71eedf13730",
   "metadata": {},
   "outputs": [],
   "source": [
    "#pip install scikit-learn\n"
   ]
  },
  {
   "cell_type": "code",
   "execution_count": 4,
   "id": "e5e6fd52-2a53-4915-b491-7dddaad2895b",
   "metadata": {},
   "outputs": [],
   "source": [
    "#pip install wrapt\n"
   ]
  },
  {
   "cell_type": "code",
   "execution_count": 6,
   "id": "34f2eac3-47df-492d-9c10-bfaaae377a82",
   "metadata": {},
   "outputs": [],
   "source": [
    "#pip install numpy"
   ]
  },
  {
   "cell_type": "code",
   "execution_count": 8,
   "id": "c1ec2ec3-3f4a-40d8-9700-6b0577d018e7",
   "metadata": {},
   "outputs": [],
   "source": [
    "#pip install pandas"
   ]
  },
  {
   "cell_type": "code",
   "execution_count": 12,
   "id": "c6bc0f2b-a20e-4df8-8b06-f24c0fb05e76",
   "metadata": {},
   "outputs": [],
   "source": [
    "# Data manipulation and numerical operations\n",
    "import pandas as pd\n",
    "import numpy as np\n",
    "\n",
    "# Data visualization\n",
    "import matplotlib.pyplot as plt\n",
    "import seaborn as sns\n",
    "\n",
    "# Machine learning and preprocessing\n",
    "from sklearn.model_selection import train_test_split\n",
    "from sklearn.tree import DecisionTreeClassifier, export_graphviz\n",
    "from sklearn import metrics\n",
    "from sklearn.preprocessing import StandardScaler, LabelEncoder\n",
    "from sklearn.ensemble import GradientBoostingClassifier\n",
    "from sklearn.impute import SimpleImputer\n",
    "from sklearn.linear_model import LogisticRegression\n",
    "from sklearn.ensemble import RandomForestClassifier\n",
    "from sklearn.svm import SVC\n",
    "from sklearn.neighbors import KNeighborsClassifier\n",
    "from sklearn.metrics import accuracy_score, roc_auc_score, classification_report, confusion_matrix\n",
    "\n",
    "# Survival analysis\n",
    "from lifelines import KaplanMeierFitter\n",
    "from lifelines import CoxPHFitter\n",
    "\n",
    "# Ignore warnings\n",
    "import warnings\n",
    "warnings.filterwarnings('ignore')"
   ]
  },
  {
   "cell_type": "markdown",
   "id": "8c8b39d8-4a09-45d3-a632-12e738d86e74",
   "metadata": {},
   "source": [
    "# Data cleaning process"
   ]
  },
  {
   "cell_type": "code",
   "execution_count": 33,
   "id": "93e06ad3-6081-40a5-8752-124d13edd53b",
   "metadata": {},
   "outputs": [],
   "source": [
    "# Loading the dataset\n",
    "data = pd.read_csv(\"Breast Cancer.csv\")"
   ]
  },
  {
   "cell_type": "code",
   "execution_count": 34,
   "id": "7d60b945-07d7-460b-af86-4398f784bdb9",
   "metadata": {},
   "outputs": [
    {
     "data": {
      "text/html": [
       "<div>\n",
       "<style scoped>\n",
       "    .dataframe tbody tr th:only-of-type {\n",
       "        vertical-align: middle;\n",
       "    }\n",
       "\n",
       "    .dataframe tbody tr th {\n",
       "        vertical-align: top;\n",
       "    }\n",
       "\n",
       "    .dataframe thead th {\n",
       "        text-align: right;\n",
       "    }\n",
       "</style>\n",
       "<table border=\"1\" class=\"dataframe\">\n",
       "  <thead>\n",
       "    <tr style=\"text-align: right;\">\n",
       "      <th></th>\n",
       "      <th>Patient ID</th>\n",
       "      <th>Age at Diagnosis</th>\n",
       "      <th>Type of Breast Surgery</th>\n",
       "      <th>Cancer Type</th>\n",
       "      <th>Cancer Type Detailed</th>\n",
       "      <th>Cellularity</th>\n",
       "      <th>Chemotherapy</th>\n",
       "      <th>Pam50 + Claudin-low subtype</th>\n",
       "      <th>Cohort</th>\n",
       "      <th>ER status measured by IHC</th>\n",
       "      <th>...</th>\n",
       "      <th>Overall Survival Status</th>\n",
       "      <th>PR Status</th>\n",
       "      <th>Radio Therapy</th>\n",
       "      <th>Relapse Free Status (Months)</th>\n",
       "      <th>Relapse Free Status</th>\n",
       "      <th>Sex</th>\n",
       "      <th>3-Gene classifier subtype</th>\n",
       "      <th>Tumor Size</th>\n",
       "      <th>Tumor Stage</th>\n",
       "      <th>Patient's Vital Status</th>\n",
       "    </tr>\n",
       "  </thead>\n",
       "  <tbody>\n",
       "    <tr>\n",
       "      <th>0</th>\n",
       "      <td>MB-0000</td>\n",
       "      <td>75.65</td>\n",
       "      <td>Mastectomy</td>\n",
       "      <td>Breast Cancer</td>\n",
       "      <td>Breast Invasive Ductal Carcinoma</td>\n",
       "      <td>NaN</td>\n",
       "      <td>No</td>\n",
       "      <td>claudin-low</td>\n",
       "      <td>1.0</td>\n",
       "      <td>Positve</td>\n",
       "      <td>...</td>\n",
       "      <td>Living</td>\n",
       "      <td>Negative</td>\n",
       "      <td>Yes</td>\n",
       "      <td>138.65</td>\n",
       "      <td>Not Recurred</td>\n",
       "      <td>Female</td>\n",
       "      <td>ER-/HER2-</td>\n",
       "      <td>22.0</td>\n",
       "      <td>2.0</td>\n",
       "      <td>Living</td>\n",
       "    </tr>\n",
       "    <tr>\n",
       "      <th>1</th>\n",
       "      <td>MB-0002</td>\n",
       "      <td>43.19</td>\n",
       "      <td>Breast Conserving</td>\n",
       "      <td>Breast Cancer</td>\n",
       "      <td>Breast Invasive Ductal Carcinoma</td>\n",
       "      <td>High</td>\n",
       "      <td>No</td>\n",
       "      <td>LumA</td>\n",
       "      <td>1.0</td>\n",
       "      <td>Positve</td>\n",
       "      <td>...</td>\n",
       "      <td>Living</td>\n",
       "      <td>Positive</td>\n",
       "      <td>Yes</td>\n",
       "      <td>83.52</td>\n",
       "      <td>Not Recurred</td>\n",
       "      <td>Female</td>\n",
       "      <td>ER+/HER2- High Prolif</td>\n",
       "      <td>10.0</td>\n",
       "      <td>1.0</td>\n",
       "      <td>Living</td>\n",
       "    </tr>\n",
       "    <tr>\n",
       "      <th>2</th>\n",
       "      <td>MB-0005</td>\n",
       "      <td>48.87</td>\n",
       "      <td>Mastectomy</td>\n",
       "      <td>Breast Cancer</td>\n",
       "      <td>Breast Invasive Ductal Carcinoma</td>\n",
       "      <td>High</td>\n",
       "      <td>Yes</td>\n",
       "      <td>LumB</td>\n",
       "      <td>1.0</td>\n",
       "      <td>Positve</td>\n",
       "      <td>...</td>\n",
       "      <td>Deceased</td>\n",
       "      <td>Positive</td>\n",
       "      <td>No</td>\n",
       "      <td>151.28</td>\n",
       "      <td>Recurred</td>\n",
       "      <td>Female</td>\n",
       "      <td>NaN</td>\n",
       "      <td>15.0</td>\n",
       "      <td>2.0</td>\n",
       "      <td>Died of Disease</td>\n",
       "    </tr>\n",
       "    <tr>\n",
       "      <th>3</th>\n",
       "      <td>MB-0006</td>\n",
       "      <td>47.68</td>\n",
       "      <td>Mastectomy</td>\n",
       "      <td>Breast Cancer</td>\n",
       "      <td>Breast Mixed Ductal and Lobular Carcinoma</td>\n",
       "      <td>Moderate</td>\n",
       "      <td>Yes</td>\n",
       "      <td>LumB</td>\n",
       "      <td>1.0</td>\n",
       "      <td>Positve</td>\n",
       "      <td>...</td>\n",
       "      <td>Living</td>\n",
       "      <td>Positive</td>\n",
       "      <td>Yes</td>\n",
       "      <td>162.76</td>\n",
       "      <td>Not Recurred</td>\n",
       "      <td>Female</td>\n",
       "      <td>NaN</td>\n",
       "      <td>25.0</td>\n",
       "      <td>2.0</td>\n",
       "      <td>Living</td>\n",
       "    </tr>\n",
       "    <tr>\n",
       "      <th>4</th>\n",
       "      <td>MB-0008</td>\n",
       "      <td>76.97</td>\n",
       "      <td>Mastectomy</td>\n",
       "      <td>Breast Cancer</td>\n",
       "      <td>Breast Mixed Ductal and Lobular Carcinoma</td>\n",
       "      <td>High</td>\n",
       "      <td>Yes</td>\n",
       "      <td>LumB</td>\n",
       "      <td>1.0</td>\n",
       "      <td>Positve</td>\n",
       "      <td>...</td>\n",
       "      <td>Deceased</td>\n",
       "      <td>Positive</td>\n",
       "      <td>Yes</td>\n",
       "      <td>18.55</td>\n",
       "      <td>Recurred</td>\n",
       "      <td>Female</td>\n",
       "      <td>ER+/HER2- High Prolif</td>\n",
       "      <td>40.0</td>\n",
       "      <td>2.0</td>\n",
       "      <td>Died of Disease</td>\n",
       "    </tr>\n",
       "  </tbody>\n",
       "</table>\n",
       "<p>5 rows × 34 columns</p>\n",
       "</div>"
      ],
      "text/plain": [
       "  Patient ID  Age at Diagnosis Type of Breast Surgery    Cancer Type  \\\n",
       "0    MB-0000             75.65             Mastectomy  Breast Cancer   \n",
       "1    MB-0002             43.19      Breast Conserving  Breast Cancer   \n",
       "2    MB-0005             48.87             Mastectomy  Breast Cancer   \n",
       "3    MB-0006             47.68             Mastectomy  Breast Cancer   \n",
       "4    MB-0008             76.97             Mastectomy  Breast Cancer   \n",
       "\n",
       "                        Cancer Type Detailed Cellularity Chemotherapy  \\\n",
       "0           Breast Invasive Ductal Carcinoma         NaN           No   \n",
       "1           Breast Invasive Ductal Carcinoma        High           No   \n",
       "2           Breast Invasive Ductal Carcinoma        High          Yes   \n",
       "3  Breast Mixed Ductal and Lobular Carcinoma    Moderate          Yes   \n",
       "4  Breast Mixed Ductal and Lobular Carcinoma        High          Yes   \n",
       "\n",
       "  Pam50 + Claudin-low subtype  Cohort ER status measured by IHC  ...  \\\n",
       "0                 claudin-low     1.0                   Positve  ...   \n",
       "1                        LumA     1.0                   Positve  ...   \n",
       "2                        LumB     1.0                   Positve  ...   \n",
       "3                        LumB     1.0                   Positve  ...   \n",
       "4                        LumB     1.0                   Positve  ...   \n",
       "\n",
       "  Overall Survival Status  PR Status Radio Therapy  \\\n",
       "0                  Living   Negative           Yes   \n",
       "1                  Living   Positive           Yes   \n",
       "2                Deceased   Positive            No   \n",
       "3                  Living   Positive           Yes   \n",
       "4                Deceased   Positive           Yes   \n",
       "\n",
       "  Relapse Free Status (Months) Relapse Free Status     Sex  \\\n",
       "0                       138.65        Not Recurred  Female   \n",
       "1                        83.52        Not Recurred  Female   \n",
       "2                       151.28            Recurred  Female   \n",
       "3                       162.76        Not Recurred  Female   \n",
       "4                        18.55            Recurred  Female   \n",
       "\n",
       "  3-Gene classifier subtype Tumor Size Tumor Stage  Patient's Vital Status  \n",
       "0                 ER-/HER2-       22.0         2.0                  Living  \n",
       "1     ER+/HER2- High Prolif       10.0         1.0                  Living  \n",
       "2                       NaN       15.0         2.0         Died of Disease  \n",
       "3                       NaN       25.0         2.0                  Living  \n",
       "4     ER+/HER2- High Prolif       40.0         2.0         Died of Disease  \n",
       "\n",
       "[5 rows x 34 columns]"
      ]
     },
     "execution_count": 34,
     "metadata": {},
     "output_type": "execute_result"
    }
   ],
   "source": [
    "# Displaying the first five rows of the dataset\n",
    "data.head()"
   ]
  },
  {
   "cell_type": "code",
   "execution_count": 35,
   "id": "f772f34e-2fb1-4de2-8830-31f60102f42a",
   "metadata": {},
   "outputs": [
    {
     "data": {
      "text/plain": [
       "Patient ID                          0\n",
       "Age at Diagnosis                   11\n",
       "Type of Breast Surgery            554\n",
       "Cancer Type                         0\n",
       "Cancer Type Detailed                0\n",
       "Cellularity                       592\n",
       "Chemotherapy                      529\n",
       "Pam50 + Claudin-low subtype       529\n",
       "Cohort                             11\n",
       "ER status measured by IHC          83\n",
       "ER Status                          40\n",
       "Neoplasm Histologic Grade         121\n",
       "HER2 status measured by SNP6      529\n",
       "HER2 Status                       529\n",
       "Tumor Other Histologic Subtype    135\n",
       "Hormone Therapy                   529\n",
       "Inferred Menopausal State         529\n",
       "Integrative Cluster               529\n",
       "Primary Tumor Laterality          639\n",
       "Lymph nodes examined positive     266\n",
       "Mutation Count                    152\n",
       "Nottingham prognostic index       222\n",
       "Oncotree Code                       0\n",
       "Overall Survival (Months)         528\n",
       "Overall Survival Status           528\n",
       "PR Status                         529\n",
       "Radio Therapy                     529\n",
       "Relapse Free Status (Months)      121\n",
       "Relapse Free Status                21\n",
       "Sex                                 0\n",
       "3-Gene classifier subtype         745\n",
       "Tumor Size                        149\n",
       "Tumor Stage                       721\n",
       "Patient's Vital Status            529\n",
       "dtype: int64"
      ]
     },
     "execution_count": 35,
     "metadata": {},
     "output_type": "execute_result"
    }
   ],
   "source": [
    "# Displaying missing values from each column\n",
    "data.isnull().sum()"
   ]
  },
  {
   "cell_type": "code",
   "execution_count": 36,
   "id": "7cb6ff92-925b-4432-b702-be5b762f1763",
   "metadata": {},
   "outputs": [
    {
     "name": "stdout",
     "output_type": "stream",
     "text": [
      "Patient ID                         0.000000\n",
      "Age at Diagnosis                   0.438422\n",
      "Type of Breast Surgery            22.080510\n",
      "Cancer Type                        0.000000\n",
      "Cancer Type Detailed               0.000000\n",
      "Cellularity                       23.595058\n",
      "Chemotherapy                      21.084097\n",
      "Pam50 + Claudin-low subtype       21.084097\n",
      "Cohort                             0.438422\n",
      "ER status measured by IHC          3.308091\n",
      "ER Status                          1.594261\n",
      "Neoplasm Histologic Grade          4.822639\n",
      "HER2 status measured by SNP6      21.084097\n",
      "HER2 Status                       21.084097\n",
      "Tumor Other Histologic Subtype     5.380630\n",
      "Hormone Therapy                   21.084097\n",
      "Inferred Menopausal State         21.084097\n",
      "Integrative Cluster               21.084097\n",
      "Primary Tumor Laterality          25.468314\n",
      "Lymph nodes examined positive     10.601833\n",
      "Mutation Count                     6.058191\n",
      "Nottingham prognostic index        8.848147\n",
      "Oncotree Code                      0.000000\n",
      "Overall Survival (Months)         21.044241\n",
      "Overall Survival Status           21.044241\n",
      "PR Status                         21.084097\n",
      "Radio Therapy                     21.084097\n",
      "Relapse Free Status (Months)       4.822639\n",
      "Relapse Free Status                0.836987\n",
      "Sex                                0.000000\n",
      "3-Gene classifier subtype         29.693105\n",
      "Tumor Size                         5.938621\n",
      "Tumor Stage                       28.736548\n",
      "Patient's Vital Status            21.084097\n",
      "dtype: float64\n"
     ]
    }
   ],
   "source": [
    "# Check percentage of missing values for each column\n",
    "missing_percentage = data.isnull().mean() * 100\n",
    "print(missing_percentage)"
   ]
  },
  {
   "cell_type": "code",
   "execution_count": 37,
   "id": "14fb12a2-01e2-41af-8274-cc13504b2f56",
   "metadata": {},
   "outputs": [
    {
     "name": "stdout",
     "output_type": "stream",
     "text": [
      "Patient ID                        0\n",
      "Age at Diagnosis                  0\n",
      "Type of Breast Surgery            0\n",
      "Cancer Type                       0\n",
      "Cancer Type Detailed              0\n",
      "Cellularity                       0\n",
      "Chemotherapy                      0\n",
      "Pam50 + Claudin-low subtype       0\n",
      "Cohort                            0\n",
      "ER status measured by IHC         0\n",
      "ER Status                         0\n",
      "Neoplasm Histologic Grade         0\n",
      "HER2 status measured by SNP6      0\n",
      "HER2 Status                       0\n",
      "Tumor Other Histologic Subtype    0\n",
      "Hormone Therapy                   0\n",
      "Inferred Menopausal State         0\n",
      "Integrative Cluster               0\n",
      "Primary Tumor Laterality          0\n",
      "Lymph nodes examined positive     0\n",
      "Mutation Count                    0\n",
      "Nottingham prognostic index       0\n",
      "Oncotree Code                     0\n",
      "Overall Survival (Months)         0\n",
      "Overall Survival Status           0\n",
      "PR Status                         0\n",
      "Radio Therapy                     0\n",
      "Relapse Free Status (Months)      0\n",
      "Relapse Free Status               0\n",
      "Sex                               0\n",
      "3-Gene classifier subtype         0\n",
      "Tumor Size                        0\n",
      "Tumor Stage                       0\n",
      "Patient's Vital Status            0\n",
      "dtype: int64\n"
     ]
    }
   ],
   "source": [
    "# Filling numerical columns with median\n",
    "numerical_cols = data.select_dtypes(include=['float64', 'int64']).columns\n",
    "data[numerical_cols] = data[numerical_cols].fillna(data[numerical_cols].median())\n",
    "\n",
    "# Filling categorical columns with mode\n",
    "categorical_cols = data.select_dtypes(include=['object']).columns\n",
    "data[categorical_cols] = data[categorical_cols].fillna(data[categorical_cols].mode().iloc[0])\n",
    "\n",
    "# Check the cleaned dataset\n",
    "print(data.isnull().sum())\n",
    "\n",
    "# Now all the missing values are filled"
   ]
  },
  {
   "cell_type": "code",
   "execution_count": 38,
   "id": "fe657eca-856c-46f7-9554-b766a7e1f8a8",
   "metadata": {},
   "outputs": [
    {
     "name": "stdout",
     "output_type": "stream",
     "text": [
      "<class 'pandas.core.frame.DataFrame'>\n",
      "RangeIndex: 2509 entries, 0 to 2508\n",
      "Data columns (total 34 columns):\n",
      " #   Column                          Non-Null Count  Dtype  \n",
      "---  ------                          --------------  -----  \n",
      " 0   Patient ID                      2509 non-null   object \n",
      " 1   Age at Diagnosis                2509 non-null   float64\n",
      " 2   Type of Breast Surgery          2509 non-null   object \n",
      " 3   Cancer Type                     2509 non-null   object \n",
      " 4   Cancer Type Detailed            2509 non-null   object \n",
      " 5   Cellularity                     2509 non-null   object \n",
      " 6   Chemotherapy                    2509 non-null   object \n",
      " 7   Pam50 + Claudin-low subtype     2509 non-null   object \n",
      " 8   Cohort                          2509 non-null   float64\n",
      " 9   ER status measured by IHC       2509 non-null   object \n",
      " 10  ER Status                       2509 non-null   object \n",
      " 11  Neoplasm Histologic Grade       2509 non-null   float64\n",
      " 12  HER2 status measured by SNP6    2509 non-null   object \n",
      " 13  HER2 Status                     2509 non-null   object \n",
      " 14  Tumor Other Histologic Subtype  2509 non-null   object \n",
      " 15  Hormone Therapy                 2509 non-null   object \n",
      " 16  Inferred Menopausal State       2509 non-null   object \n",
      " 17  Integrative Cluster             2509 non-null   object \n",
      " 18  Primary Tumor Laterality        2509 non-null   object \n",
      " 19  Lymph nodes examined positive   2509 non-null   float64\n",
      " 20  Mutation Count                  2509 non-null   float64\n",
      " 21  Nottingham prognostic index     2509 non-null   float64\n",
      " 22  Oncotree Code                   2509 non-null   object \n",
      " 23  Overall Survival (Months)       2509 non-null   float64\n",
      " 24  Overall Survival Status         2509 non-null   object \n",
      " 25  PR Status                       2509 non-null   object \n",
      " 26  Radio Therapy                   2509 non-null   object \n",
      " 27  Relapse Free Status (Months)    2509 non-null   float64\n",
      " 28  Relapse Free Status             2509 non-null   object \n",
      " 29  Sex                             2509 non-null   object \n",
      " 30  3-Gene classifier subtype       2509 non-null   object \n",
      " 31  Tumor Size                      2509 non-null   float64\n",
      " 32  Tumor Stage                     2509 non-null   float64\n",
      " 33  Patient's Vital Status          2509 non-null   object \n",
      "dtypes: float64(10), object(24)\n",
      "memory usage: 666.6+ KB\n"
     ]
    }
   ],
   "source": [
    "# Checking the columns data types\n",
    "\n",
    "data.info()"
   ]
  },
  {
   "cell_type": "code",
   "execution_count": 39,
   "id": "11fb1b89-f4a5-4ccd-a9bf-7ba261271b9d",
   "metadata": {},
   "outputs": [],
   "source": [
    "# List of columns to one-hot encode (all the object type columns)\n",
    "categorical_columns = ['Type of Breast Surgery', 'Cancer Type', 'Cancer Type Detailed', \n",
    "                       'Cellularity', 'Chemotherapy', 'Pam50 + Claudin-low subtype', 'Cohort', \n",
    "                       'ER status measured by IHC', 'ER Status', 'HER2 status measured by SNP6', \n",
    "                       'HER2 Status', 'Tumor Other Histologic Subtype', 'Hormone Therapy', \n",
    "                       'Inferred Menopausal State', 'Integrative Cluster', 'Primary Tumor Laterality', \n",
    "                       'Overall Survival Status', 'PR Status', 'Radio Therapy', \n",
    "                       'Relapse Free Status', 'Sex', '3-Gene classifier subtype', \n",
    "                       'Patient\\'s Vital Status']\n",
    "\n",
    "# Apply pd.get_dummies() to one-hot encode these columns\n",
    "data = pd.get_dummies(data, columns=categorical_columns, drop_first=True)\n",
    "\n",
    "# The 'drop_first=True' argument drops the first level of each category to avoid multicollinearity"
   ]
  },
  {
   "cell_type": "code",
   "execution_count": 40,
   "id": "96caa69e-65fb-4872-8c9c-1fb68e1ad5b2",
   "metadata": {},
   "outputs": [
    {
     "name": "stdout",
     "output_type": "stream",
     "text": [
      "Index(['Age at Diagnosis', 'Neoplasm Histologic Grade',\n",
      "       'Lymph nodes examined positive', 'Mutation Count',\n",
      "       'Nottingham prognostic index', 'Overall Survival (Months)',\n",
      "       'Relapse Free Status (Months)', 'Tumor Size', 'Tumor Stage',\n",
      "       'Type of Breast Surgery_Mastectomy', 'Cancer Type_Breast Sarcoma',\n",
      "       'Cancer Type Detailed_Breast Angiosarcoma',\n",
      "       'Cancer Type Detailed_Breast Invasive Ductal Carcinoma',\n",
      "       'Cancer Type Detailed_Breast Invasive Lobular Carcinoma',\n",
      "       'Cancer Type Detailed_Breast Invasive Mixed Mucinous Carcinoma',\n",
      "       'Cancer Type Detailed_Breast Mixed Ductal and Lobular Carcinoma',\n",
      "       'Cancer Type Detailed_Invasive Breast Carcinoma',\n",
      "       'Cancer Type Detailed_Metaplastic Breast Cancer', 'Cellularity_Low',\n",
      "       'Cellularity_Moderate', 'Chemotherapy_Yes',\n",
      "       'Pam50 + Claudin-low subtype_Her2', 'Pam50 + Claudin-low subtype_LumA',\n",
      "       'Pam50 + Claudin-low subtype_LumB', 'Pam50 + Claudin-low subtype_NC',\n",
      "       'Pam50 + Claudin-low subtype_Normal',\n",
      "       'Pam50 + Claudin-low subtype_claudin-low', 'Cohort_2.0', 'Cohort_3.0',\n",
      "       'Cohort_4.0', 'Cohort_5.0', 'Cohort_6.0', 'Cohort_7.0', 'Cohort_8.0',\n",
      "       'Cohort_9.0', 'ER status measured by IHC_Positve', 'ER Status_Positive',\n",
      "       'HER2 status measured by SNP6_Loss',\n",
      "       'HER2 status measured by SNP6_Neutral',\n",
      "       'HER2 status measured by SNP6_Undef', 'HER2 Status_Positive',\n",
      "       'Tumor Other Histologic Subtype_Lobular',\n",
      "       'Tumor Other Histologic Subtype_Medullary',\n",
      "       'Tumor Other Histologic Subtype_Metaplastic',\n",
      "       'Tumor Other Histologic Subtype_Mixed',\n",
      "       'Tumor Other Histologic Subtype_Mucinous',\n",
      "       'Tumor Other Histologic Subtype_Other',\n",
      "       'Tumor Other Histologic Subtype_Tubular/ cribriform',\n",
      "       'Hormone Therapy_Yes', 'Inferred Menopausal State_Pre',\n",
      "       'Integrative Cluster_10', 'Integrative Cluster_2',\n",
      "       'Integrative Cluster_3', 'Integrative Cluster_4ER+',\n",
      "       'Integrative Cluster_4ER-', 'Integrative Cluster_5',\n",
      "       'Integrative Cluster_6', 'Integrative Cluster_7',\n",
      "       'Integrative Cluster_8', 'Integrative Cluster_9',\n",
      "       'Primary Tumor Laterality_Right', 'Overall Survival Status_Living',\n",
      "       'PR Status_Positive', 'Radio Therapy_Yes',\n",
      "       'Relapse Free Status_Recurred',\n",
      "       '3-Gene classifier subtype_ER+/HER2- Low Prolif',\n",
      "       '3-Gene classifier subtype_ER-/HER2-',\n",
      "       '3-Gene classifier subtype_HER2+',\n",
      "       'Patient's Vital Status_Died of Other Causes',\n",
      "       'Patient's Vital Status_Living'],\n",
      "      dtype='object')\n"
     ]
    }
   ],
   "source": [
    "# Drop a specific column without affecting others\n",
    "data = data.drop(columns=['Patient ID','Oncotree Code'])\n",
    "\n",
    "# Verify the columns\n",
    "print(data.columns)"
   ]
  },
  {
   "cell_type": "code",
   "execution_count": 41,
   "id": "76fc9067-095f-4295-a5cd-44cf144b9f13",
   "metadata": {},
   "outputs": [
    {
     "name": "stdout",
     "output_type": "stream",
     "text": [
      "<class 'pandas.core.frame.DataFrame'>\n",
      "RangeIndex: 2509 entries, 0 to 2508\n",
      "Data columns (total 70 columns):\n",
      " #   Column                                                          Non-Null Count  Dtype  \n",
      "---  ------                                                          --------------  -----  \n",
      " 0   Age at Diagnosis                                                2509 non-null   float64\n",
      " 1   Neoplasm Histologic Grade                                       2509 non-null   float64\n",
      " 2   Lymph nodes examined positive                                   2509 non-null   float64\n",
      " 3   Mutation Count                                                  2509 non-null   float64\n",
      " 4   Nottingham prognostic index                                     2509 non-null   float64\n",
      " 5   Overall Survival (Months)                                       2509 non-null   float64\n",
      " 6   Relapse Free Status (Months)                                    2509 non-null   float64\n",
      " 7   Tumor Size                                                      2509 non-null   float64\n",
      " 8   Tumor Stage                                                     2509 non-null   float64\n",
      " 9   Type of Breast Surgery_Mastectomy                               2509 non-null   bool   \n",
      " 10  Cancer Type_Breast Sarcoma                                      2509 non-null   bool   \n",
      " 11  Cancer Type Detailed_Breast Angiosarcoma                        2509 non-null   bool   \n",
      " 12  Cancer Type Detailed_Breast Invasive Ductal Carcinoma           2509 non-null   bool   \n",
      " 13  Cancer Type Detailed_Breast Invasive Lobular Carcinoma          2509 non-null   bool   \n",
      " 14  Cancer Type Detailed_Breast Invasive Mixed Mucinous Carcinoma   2509 non-null   bool   \n",
      " 15  Cancer Type Detailed_Breast Mixed Ductal and Lobular Carcinoma  2509 non-null   bool   \n",
      " 16  Cancer Type Detailed_Invasive Breast Carcinoma                  2509 non-null   bool   \n",
      " 17  Cancer Type Detailed_Metaplastic Breast Cancer                  2509 non-null   bool   \n",
      " 18  Cellularity_Low                                                 2509 non-null   bool   \n",
      " 19  Cellularity_Moderate                                            2509 non-null   bool   \n",
      " 20  Chemotherapy_Yes                                                2509 non-null   bool   \n",
      " 21  Pam50 + Claudin-low subtype_Her2                                2509 non-null   bool   \n",
      " 22  Pam50 + Claudin-low subtype_LumA                                2509 non-null   bool   \n",
      " 23  Pam50 + Claudin-low subtype_LumB                                2509 non-null   bool   \n",
      " 24  Pam50 + Claudin-low subtype_NC                                  2509 non-null   bool   \n",
      " 25  Pam50 + Claudin-low subtype_Normal                              2509 non-null   bool   \n",
      " 26  Pam50 + Claudin-low subtype_claudin-low                         2509 non-null   bool   \n",
      " 27  Cohort_2.0                                                      2509 non-null   bool   \n",
      " 28  Cohort_3.0                                                      2509 non-null   bool   \n",
      " 29  Cohort_4.0                                                      2509 non-null   bool   \n",
      " 30  Cohort_5.0                                                      2509 non-null   bool   \n",
      " 31  Cohort_6.0                                                      2509 non-null   bool   \n",
      " 32  Cohort_7.0                                                      2509 non-null   bool   \n",
      " 33  Cohort_8.0                                                      2509 non-null   bool   \n",
      " 34  Cohort_9.0                                                      2509 non-null   bool   \n",
      " 35  ER status measured by IHC_Positve                               2509 non-null   bool   \n",
      " 36  ER Status_Positive                                              2509 non-null   bool   \n",
      " 37  HER2 status measured by SNP6_Loss                               2509 non-null   bool   \n",
      " 38  HER2 status measured by SNP6_Neutral                            2509 non-null   bool   \n",
      " 39  HER2 status measured by SNP6_Undef                              2509 non-null   bool   \n",
      " 40  HER2 Status_Positive                                            2509 non-null   bool   \n",
      " 41  Tumor Other Histologic Subtype_Lobular                          2509 non-null   bool   \n",
      " 42  Tumor Other Histologic Subtype_Medullary                        2509 non-null   bool   \n",
      " 43  Tumor Other Histologic Subtype_Metaplastic                      2509 non-null   bool   \n",
      " 44  Tumor Other Histologic Subtype_Mixed                            2509 non-null   bool   \n",
      " 45  Tumor Other Histologic Subtype_Mucinous                         2509 non-null   bool   \n",
      " 46  Tumor Other Histologic Subtype_Other                            2509 non-null   bool   \n",
      " 47  Tumor Other Histologic Subtype_Tubular/ cribriform              2509 non-null   bool   \n",
      " 48  Hormone Therapy_Yes                                             2509 non-null   bool   \n",
      " 49  Inferred Menopausal State_Pre                                   2509 non-null   bool   \n",
      " 50  Integrative Cluster_10                                          2509 non-null   bool   \n",
      " 51  Integrative Cluster_2                                           2509 non-null   bool   \n",
      " 52  Integrative Cluster_3                                           2509 non-null   bool   \n",
      " 53  Integrative Cluster_4ER+                                        2509 non-null   bool   \n",
      " 54  Integrative Cluster_4ER-                                        2509 non-null   bool   \n",
      " 55  Integrative Cluster_5                                           2509 non-null   bool   \n",
      " 56  Integrative Cluster_6                                           2509 non-null   bool   \n",
      " 57  Integrative Cluster_7                                           2509 non-null   bool   \n",
      " 58  Integrative Cluster_8                                           2509 non-null   bool   \n",
      " 59  Integrative Cluster_9                                           2509 non-null   bool   \n",
      " 60  Primary Tumor Laterality_Right                                  2509 non-null   bool   \n",
      " 61  Overall Survival Status_Living                                  2509 non-null   bool   \n",
      " 62  PR Status_Positive                                              2509 non-null   bool   \n",
      " 63  Radio Therapy_Yes                                               2509 non-null   bool   \n",
      " 64  Relapse Free Status_Recurred                                    2509 non-null   bool   \n",
      " 65  3-Gene classifier subtype_ER+/HER2- Low Prolif                  2509 non-null   bool   \n",
      " 66  3-Gene classifier subtype_ER-/HER2-                             2509 non-null   bool   \n",
      " 67  3-Gene classifier subtype_HER2+                                 2509 non-null   bool   \n",
      " 68  Patient's Vital Status_Died of Other Causes                     2509 non-null   bool   \n",
      " 69  Patient's Vital Status_Living                                   2509 non-null   bool   \n",
      "dtypes: bool(61), float64(9)\n",
      "memory usage: 326.0 KB\n"
     ]
    }
   ],
   "source": [
    "# Check the clean\n",
    "data.info()"
   ]
  },
  {
   "cell_type": "markdown",
   "id": "bbd5e7ac-b8ae-48a0-80e7-fba9830ec416",
   "metadata": {},
   "source": [
    "# Exploratory Data Analysis (EDA)"
   ]
  },
  {
   "cell_type": "code",
   "execution_count": 22,
   "id": "a06dfe46-faa0-4a94-a06e-ba353c2c1ab6",
   "metadata": {},
   "outputs": [
    {
     "data": {
      "image/png": "[encoded data removed]",
      "text/plain": [
       "<Figure size 800x600 with 1 Axes>"
      ]
     },
     "metadata": {},
     "output_type": "display_data"
    }
   ],
   "source": [
    "# Tumor Size vs Overall Survival Status\n",
    "\n",
    "# Set the figure size to 8x6 inches for better readability of the plot.\n",
    "plt.figure(figsize=(8, 6))\n",
    "\n",
    "# Create a boxplot to visualize the distribution of 'Tumor Size' against 'Overall Survival Status_Living'.\n",
    "# The boxplot shows the central tendency and spread (quartiles) of 'Tumor Size' for each survival status group.\n",
    "sns.boxplot(x='Overall Survival Status_Living', y='Tumor Size', data=data)\n",
    "\n",
    "# Add a title to the plot for clarity on what the visualization represents.\n",
    "plt.title('Tumor Size vs Overall Survival Status_Living')\n",
    "\n",
    "# Label the x-axis with a more descriptive term to specify that \"1\" represents \"Living\" and \"0\" represents \"Deceased\".\n",
    "plt.xlabel('Overall Survival Status_Living (1 = Living, 0 = Deceased)')\n",
    "\n",
    "# Label the y-axis to indicate that it represents 'Tumor Size', the variable being analyzed.\n",
    "plt.ylabel('Tumor Size')\n",
    "\n",
    "# Display the plot.\n",
    "plt.show()"
   ]
  },
  {
   "cell_type": "code",
   "execution_count": 23,
   "id": "81292eee-bad1-40a0-ab0a-5a2cdfb21712",
   "metadata": {},
   "outputs": [
    {
     "data": {
      "image/png": "[encoded data removed]",
      "text/plain": [
       "<Figure size 800x600 with 1 Axes>"
      ]
     },
     "metadata": {},
     "output_type": "display_data"
    }
   ],
   "source": [
    "# Age at Diagnosis vs Overall Survival Status\n",
    "\n",
    "# Set the figure size to 8x6 inches to make the plot visually clear and readable.\n",
    "plt.figure(figsize=(8, 6))\n",
    "\n",
    "# Create a boxplot to visualize the distribution of 'Age at Diagnosis' against 'Overall Survival Status_Living'.\n",
    "# This boxplot shows the central tendency and spread (quartiles) of 'Age at Diagnosis' for each group (Living or Deceased).\n",
    "sns.boxplot(x='Overall Survival Status_Living', y='Age at Diagnosis', data=data)\n",
    "\n",
    "# Add a title to provide context on what the plot represents, showing the relationship between age at diagnosis and survival status.\n",
    "plt.title('Age at Diagnosis vs Overall Survival Status_Living')\n",
    "\n",
    "# Label the x-axis, clarifying that \"1\" indicates \"Living\" and \"0\" indicates \"Deceased\".\n",
    "plt.xlabel('Overall Survival Status_Living (1 = Living, 0 = Deceased)')\n",
    "\n",
    "# Label the y-axis to indicate it represents 'Age at Diagnosis', which is the feature being analyzed.\n",
    "plt.ylabel('Age at Diagnosis')\n",
    "\n",
    "# Render the plot on the screen.\n",
    "plt.show()"
   ]
  },
  {
   "cell_type": "code",
   "execution_count": 24,
   "id": "5ae90672-eebd-4922-8cb0-b931745fdb20",
   "metadata": {},
   "outputs": [
    {
     "data": {
      "image/png": "[encoded data removed]",
      "text/plain": [
       "<Figure size 1000x600 with 1 Axes>"
      ]
     },
     "metadata": {},
     "output_type": "display_data"
    }
   ],
   "source": [
    "# Age at Diagnosis\n",
    "\n",
    "# Set the figure size to 10x6 inches to make the histogram more visually clear and easy to interpret.\n",
    "plt.figure(figsize=(10, 6))\n",
    "\n",
    "# Create a histogram to display the distribution of 'Age at Diagnosis'.\n",
    "# The `kde=True` parameter overlays a Kernel Density Estimate (KDE) curve to show the smoothed probability density.\n",
    "# The `bins=30` parameter specifies that the data should be divided into 30 bins for the histogram.\n",
    "sns.histplot(data['Age at Diagnosis'], kde=True, bins=30)\n",
    "\n",
    "# Add a title to the histogram to indicate that it represents the distribution of 'Age at Diagnosis'.\n",
    "plt.title('Distribution of Age at Diagnosis')\n",
    "\n",
    "# Display the plot.\n",
    "plt.show()"
   ]
  },
  {
   "cell_type": "code",
   "execution_count": 25,
   "id": "d5e25330-de2d-485d-935e-9286f6a8e369",
   "metadata": {},
   "outputs": [
    {
     "data": {
      "image/png": "[encoded data removed]",
      "text/plain": [
       "<Figure size 1000x600 with 1 Axes>"
      ]
     },
     "metadata": {},
     "output_type": "display_data"
    }
   ],
   "source": [
    "# Type of Breast Surgery\n",
    "\n",
    "# Set the figure size to 10x6 inches to make the plot more visually clear and readable.\n",
    "plt.figure(figsize=(10, 6))\n",
    "\n",
    "# Create a count plot to visualize the frequency of each category in 'Type of Breast Surgery_Mastectomy'.\n",
    "# The count plot shows how many patients had each type of surgery (e.g., Mastectomy).\n",
    "sns.countplot(x='Type of Breast Surgery_Mastectomy', data=data)\n",
    "\n",
    "# Add a title to the plot to clarify it represents the distribution of breast surgery types among patients.\n",
    "plt.title('Distribution of Type of Breast Surgery')\n",
    "\n",
    "# Rotate x-axis labels by 45 degrees to make them easier to read, especially if there are long category names.\n",
    "plt.xticks(rotation=45)\n",
    "\n",
    "# Display the plot.\n",
    "plt.show()"
   ]
  },
  {
   "cell_type": "code",
   "execution_count": 26,
   "id": "0ee54448-4b28-45d7-a2ba-596732d2db72",
   "metadata": {},
   "outputs": [
    {
     "data": {
      "image/png": "[encoded data removed]",
      "text/plain": [
       "<Figure size 1000x600 with 1 Axes>"
      ]
     },
     "metadata": {},
     "output_type": "display_data"
    }
   ],
   "source": [
    "# Chemotherapy Treatment Distribution Among Patients\n",
    "\n",
    "# Set the figure size to 10x6 inches to make the plot visually clear and easy to interpret.\n",
    "plt.figure(figsize=(10, 6))\n",
    "\n",
    "# Create a count plot to show the distribution of the 'Chemotherapy_Yes' variable.\n",
    "# This plot will display the frequency of patients who received chemotherapy (e.g., 'Yes' or 'No').\n",
    "sns.countplot(x='Chemotherapy_Yes', data=data)\n",
    "\n",
    "# Add a title to the plot to indicate it represents the distribution of chemotherapy status among patients.\n",
    "plt.title('Chemotherapy Distribution')\n",
    "\n",
    "# Display the plot.\n",
    "plt.show()"
   ]
  },
  {
   "cell_type": "code",
   "execution_count": 27,
   "id": "b42db6f2-9c88-46aa-bf34-8962240912cf",
   "metadata": {},
   "outputs": [
    {
     "data": {
      "image/png": "[encoded data removed]",
      "text/plain": [
       "<Figure size 1000x600 with 1 Axes>"
      ]
     },
     "metadata": {},
     "output_type": "display_data"
    }
   ],
   "source": [
    "# Visualizing the distribution of 'Age at Diagnosis' by 'Overall Survival Status'\n",
    "\n",
    "# Set the figure size to 10x6 inches to make the plot visually clear and readable.\n",
    "plt.figure(figsize=(10, 6))\n",
    "\n",
    "# Create a histogram to display the distribution of 'Age at Diagnosis' with respect to 'Overall Survival Status_Living'.\n",
    "# The 'hue' parameter separates the data by survival status (e.g., Living or Deceased), creating a comparison within the histogram.\n",
    "# The 'multiple=\"stack\"' parameter stacks the bars for each survival status category, making it easy to see their distribution.\n",
    "sns.histplot(data=data, x='Age at Diagnosis', hue='Overall Survival Status_Living', multiple='stack')\n",
    "\n",
    "# Add a title to indicate the plot represents the distribution of 'Age at Diagnosis' by survival status.\n",
    "plt.title(\"Distribution of Age at Diagnosis by Overall Survival Status\")\n",
    "\n",
    "# Display the plot.\n",
    "plt.show()"
   ]
  },
  {
   "cell_type": "code",
   "execution_count": 28,
   "id": "9c7de04e-2500-4ed7-87c4-ceb65fd16b28",
   "metadata": {},
   "outputs": [
    {
     "data": {
      "image/png": "[encoded data removed]",
      "text/plain": [
       "<Figure size 640x480 with 1 Axes>"
      ]
     },
     "metadata": {},
     "output_type": "display_data"
    }
   ],
   "source": [
    "# Kaplan-Meier Survival Analysis of Overall Survival in Breast Cancer Patients\n",
    "\n",
    "# Import the Kaplan-Meier Fitter from the lifelines library for survival analysis.\n",
    "from lifelines import KaplanMeierFitter\n",
    "\n",
    "# Initialize an instance of KaplanMeierFitter, which will be used to fit the survival data.\n",
    "kmf = KaplanMeierFitter()\n",
    "\n",
    "# Define the time and event variables.\n",
    "# 'T' represents the duration (e.g., overall survival time in months).\n",
    "T = data['Overall Survival (Months)']  # Duration in months\n",
    "# 'E' represents the event indicator (1 = event observed, 0 = censored, e.g., survival status).\n",
    "E = data['Overall Survival Status_Living']  # Survival event observed or censored\n",
    "\n",
    "# Fit the Kaplan-Meier model using the time ('T') and event ('E') data.\n",
    "kmf.fit(T, event_observed=E)\n",
    "\n",
    "# Plot the survival function based on the fitted model.\n",
    "kmf.plot_survival_function()\n",
    "\n",
    "# Add a title to describe the plot as a Kaplan-Meier survival curve for overall survival.\n",
    "plt.title(\"Kaplan-Meier Survival Curve for Overall Survival\")\n",
    "\n",
    "# Label the x-axis to indicate the survival duration in months.\n",
    "plt.xlabel(\"Months\")\n",
    "\n",
    "# Label the y-axis to indicate the probability of survival.\n",
    "plt.ylabel(\"Survival Probability\")\n",
    "\n",
    "# Display the plot.\n",
    "plt.show()"
   ]
  },
  {
   "cell_type": "code",
   "execution_count": 29,
   "id": "c84baf44-27fe-42bf-84d9-9823736b3b97",
   "metadata": {},
   "outputs": [
    {
     "data": {
      "text/html": [
       "<div>\n",
       "<style scoped>\n",
       "    .dataframe tbody tr th:only-of-type {\n",
       "        vertical-align: middle;\n",
       "    }\n",
       "\n",
       "    .dataframe tbody tr th {\n",
       "        vertical-align: top;\n",
       "    }\n",
       "\n",
       "    .dataframe thead th {\n",
       "        text-align: right;\n",
       "    }\n",
       "</style>\n",
       "<table border=\"1\" class=\"dataframe\">\n",
       "  <tbody>\n",
       "    <tr>\n",
       "      <th>model</th>\n",
       "      <td>lifelines.CoxPHFitter</td>\n",
       "    </tr>\n",
       "    <tr>\n",
       "      <th>duration col</th>\n",
       "      <td>'Overall Survival (Months)'</td>\n",
       "    </tr>\n",
       "    <tr>\n",
       "      <th>event col</th>\n",
       "      <td>'Overall Survival Status_Living'</td>\n",
       "    </tr>\n",
       "    <tr>\n",
       "      <th>baseline estimation</th>\n",
       "      <td>breslow</td>\n",
       "    </tr>\n",
       "    <tr>\n",
       "      <th>number of observations</th>\n",
       "      <td>2509</td>\n",
       "    </tr>\n",
       "    <tr>\n",
       "      <th>number of events observed</th>\n",
       "      <td>837</td>\n",
       "    </tr>\n",
       "    <tr>\n",
       "      <th>partial log-likelihood</th>\n",
       "      <td>-5281.86</td>\n",
       "    </tr>\n",
       "    <tr>\n",
       "      <th>time fit was run</th>\n",
       "      <td>2024-10-30 11:46:43 UTC</td>\n",
       "    </tr>\n",
       "  </tbody>\n",
       "</table>\n",
       "</div><table border=\"1\" class=\"dataframe\">\n",
       "  <thead>\n",
       "    <tr style=\"text-align: right;\">\n",
       "      <th style=\"min-width: 12px;\"></th>\n",
       "      <th style=\"min-width: 12px;\">coef</th>\n",
       "      <th style=\"min-width: 12px;\">exp(coef)</th>\n",
       "      <th style=\"min-width: 12px;\">se(coef)</th>\n",
       "      <th style=\"min-width: 12px;\">coef lower 95%</th>\n",
       "      <th style=\"min-width: 12px;\">coef upper 95%</th>\n",
       "      <th style=\"min-width: 12px;\">exp(coef) lower 95%</th>\n",
       "      <th style=\"min-width: 12px;\">exp(coef) upper 95%</th>\n",
       "      <th style=\"min-width: 12px;\">cmp to</th>\n",
       "      <th style=\"min-width: 12px;\">z</th>\n",
       "      <th style=\"min-width: 12px;\">p</th>\n",
       "      <th style=\"min-width: 12px;\">-log2(p)</th>\n",
       "    </tr>\n",
       "  </thead>\n",
       "  <tbody>\n",
       "    <tr>\n",
       "      <th>Age at Diagnosis</th>\n",
       "      <td>-0.01</td>\n",
       "      <td>0.99</td>\n",
       "      <td>0.00</td>\n",
       "      <td>-0.01</td>\n",
       "      <td>-0.00</td>\n",
       "      <td>0.99</td>\n",
       "      <td>1.00</td>\n",
       "      <td>0.00</td>\n",
       "      <td>-3.07</td>\n",
       "      <td>&lt;0.005</td>\n",
       "      <td>8.89</td>\n",
       "    </tr>\n",
       "    <tr>\n",
       "      <th>Tumor Size</th>\n",
       "      <td>0.00</td>\n",
       "      <td>1.00</td>\n",
       "      <td>0.00</td>\n",
       "      <td>-0.01</td>\n",
       "      <td>0.01</td>\n",
       "      <td>0.99</td>\n",
       "      <td>1.01</td>\n",
       "      <td>0.00</td>\n",
       "      <td>0.09</td>\n",
       "      <td>0.93</td>\n",
       "      <td>0.10</td>\n",
       "    </tr>\n",
       "  </tbody>\n",
       "</table><br><div>\n",
       "<style scoped>\n",
       "    .dataframe tbody tr th:only-of-type {\n",
       "        vertical-align: middle;\n",
       "    }\n",
       "\n",
       "    .dataframe tbody tr th {\n",
       "        vertical-align: top;\n",
       "    }\n",
       "\n",
       "    .dataframe thead th {\n",
       "        text-align: right;\n",
       "    }\n",
       "</style>\n",
       "<table border=\"1\" class=\"dataframe\">\n",
       "  <tbody>\n",
       "    <tr>\n",
       "      <th>Concordance</th>\n",
       "      <td>0.53</td>\n",
       "    </tr>\n",
       "    <tr>\n",
       "      <th>Partial AIC</th>\n",
       "      <td>10567.72</td>\n",
       "    </tr>\n",
       "    <tr>\n",
       "      <th>log-likelihood ratio test</th>\n",
       "      <td>9.40 on 2 df</td>\n",
       "    </tr>\n",
       "    <tr>\n",
       "      <th>-log2(p) of ll-ratio test</th>\n",
       "      <td>6.78</td>\n",
       "    </tr>\n",
       "  </tbody>\n",
       "</table>\n",
       "</div>"
      ],
      "text/latex": [
       "\\begin{tabular}{lrrrrrrrrrrr}\n",
       " & coef & exp(coef) & se(coef) & coef lower 95% & coef upper 95% & exp(coef) lower 95% & exp(coef) upper 95% & cmp to & z & p & -log2(p) \\\\\n",
       "covariate &  &  &  &  &  &  &  &  &  &  &  \\\\\n",
       "Age at Diagnosis & -0.01 & 0.99 & 0.00 & -0.01 & -0.00 & 0.99 & 1.00 & 0.00 & -3.07 & 0.00 & 8.89 \\\\\n",
       "Tumor Size & 0.00 & 1.00 & 0.00 & -0.01 & 0.01 & 0.99 & 1.01 & 0.00 & 0.09 & 0.93 & 0.10 \\\\\n",
       "\\end{tabular}\n"
      ],
      "text/plain": [
       "<lifelines.CoxPHFitter: fitted with 2509 total observations, 1672 right-censored observations>\n",
       "             duration col = 'Overall Survival (Months)'\n",
       "                event col = 'Overall Survival Status_Living'\n",
       "      baseline estimation = breslow\n",
       "   number of observations = 2509\n",
       "number of events observed = 837\n",
       "   partial log-likelihood = -5281.86\n",
       "         time fit was run = 2024-10-30 11:46:43 UTC\n",
       "\n",
       "---\n",
       "                   coef  exp(coef)   se(coef)   coef lower 95%   coef upper 95%  exp(coef) lower 95%  exp(coef) upper 95%\n",
       "covariate                                                                                                                \n",
       "Age at Diagnosis  -0.01       0.99       0.00            -0.01            -0.00                 0.99                 1.00\n",
       "Tumor Size         0.00       1.00       0.00            -0.01             0.01                 0.99                 1.01\n",
       "\n",
       "                   cmp to     z      p   -log2(p)\n",
       "covariate                                        \n",
       "Age at Diagnosis     0.00 -3.07 <0.005       8.89\n",
       "Tumor Size           0.00  0.09   0.93       0.10\n",
       "---\n",
       "Concordance = 0.53\n",
       "Partial AIC = 10567.72\n",
       "log-likelihood ratio test = 9.40 on 2 df\n",
       "-log2(p) of ll-ratio test = 6.78"
      ]
     },
     "metadata": {},
     "output_type": "display_data"
    },
    {
     "data": {
      "image/png": "[encoded data removed]",
      "text/plain": [
       "<Figure size 640x480 with 1 Axes>"
      ]
     },
     "metadata": {},
     "output_type": "display_data"
    }
   ],
   "source": [
    "# Cox Proportional Hazards Model for Assessing Survival Risk Factors in Breast Cancer\n",
    "\n",
    "# Import the Cox Proportional Hazards Fitter from the lifelines library for survival analysis.\n",
    "from lifelines import CoxPHFitter\n",
    "\n",
    "# Prepare the dataset by selecting relevant features for the Cox model.\n",
    "# Ensure the dataset is clean and any missing values are handled.\n",
    "# Here, we're using 'Age at Diagnosis' and 'Tumor Size' as predictors.\n",
    "features = ['Age at Diagnosis', 'Tumor Size']  # Adjust based on your dataset\n",
    "\n",
    "# Create a new DataFrame that includes the selected features and survival data, removing any rows with missing values.\n",
    "data = data[features + ['Overall Survival (Months)', 'Overall Survival Status_Living']].dropna()\n",
    "\n",
    "# Initialize the Cox Proportional Hazards model.\n",
    "cph = CoxPHFitter()\n",
    "\n",
    "# Fit the model to the data, specifying the duration and event columns.\n",
    "cph.fit(data, duration_col='Overall Survival (Months)', event_col='Overall Survival Status_Living')\n",
    "\n",
    "# Display a summary of the Cox model, which includes coefficients, p-values, and other statistics.\n",
    "cph.print_summary()\n",
    "\n",
    "# Plot the coefficients of the Cox model to visualize their effect sizes.\n",
    "cph.plot()\n",
    "\n",
    "# Add a title to the plot for clarity.\n",
    "plt.title(\"Cox Proportional Hazards Model Coefficients\")\n",
    "\n",
    "# Display the plot.\n",
    "plt.show()"
   ]
  },
  {
   "cell_type": "code",
   "execution_count": 30,
   "id": "5f065146-f829-47c3-a8a0-346ddc18af7f",
   "metadata": {},
   "outputs": [
    {
     "name": "stdout",
     "output_type": "stream",
     "text": [
      "                                Age at Diagnosis  Tumor Size  \\\n",
      "Age at Diagnosis                        1.000000    0.066093   \n",
      "Tumor Size                              0.066093    1.000000   \n",
      "Overall Survival (Months)              -0.123599   -0.168743   \n",
      "Overall Survival Status_Living         -0.213544   -0.125724   \n",
      "\n",
      "                                Overall Survival (Months)  \\\n",
      "Age at Diagnosis                                -0.123599   \n",
      "Tumor Size                                      -0.168743   \n",
      "Overall Survival (Months)                        1.000000   \n",
      "Overall Survival Status_Living                   0.373526   \n",
      "\n",
      "                                Overall Survival Status_Living  \n",
      "Age at Diagnosis                                     -0.213544  \n",
      "Tumor Size                                           -0.125724  \n",
      "Overall Survival (Months)                             0.373526  \n",
      "Overall Survival Status_Living                        1.000000  \n"
     ]
    }
   ],
   "source": [
    "# Compute the correlation matrix for the DataFrame 'data'.\n",
    "\n",
    "# This will calculate the pairwise correlation coefficients between numerical features.\n",
    "corr_matrix = data.corr()\n",
    "\n",
    "# Print the correlation matrix to the console for inspection.\n",
    "print(corr_matrix)"
   ]
  },
  {
   "cell_type": "code",
   "execution_count": 31,
   "id": "2b73e126-59ed-49bb-bc59-a92d8b9b2ba4",
   "metadata": {},
   "outputs": [
    {
     "data": {
      "image/png": "[encoded data removed]",
      "text/plain": [
       "<Figure size 1200x800 with 2 Axes>"
      ]
     },
     "metadata": {},
     "output_type": "display_data"
    }
   ],
   "source": [
    "# Create the heatmap for the correlation matrix\n",
    "\n",
    "# Set the figure size to 12x8 inches for better visibility of the heatmap.\n",
    "plt.figure(figsize=(12, 8))\n",
    "\n",
    "# Create a heatmap to visualize the correlation matrix.\n",
    "# - `annot=True` adds the correlation coefficient values to each cell in the heatmap.\n",
    "# - `cmap='coolwarm'` sets the color palette for the heatmap, where colors represent different correlation strengths.\n",
    "# - `fmt='.2f'` formats the annotation text to show two decimal places.\n",
    "sns.heatmap(corr_matrix, annot=True, cmap='coolwarm', fmt='.2f')\n",
    "\n",
    "# Add a title to describe what the heatmap represents.\n",
    "plt.title('Correlation Heatmap for Breast Cancer Survival Data')\n",
    "\n",
    "# Display the heatmap.\n",
    "plt.show()"
   ]
  },
  {
   "cell_type": "markdown",
   "id": "4f86d567-db7a-4656-a0b6-ce2a7cd143db",
   "metadata": {},
   "source": [
    "# Model Validation"
   ]
  },
  {
   "cell_type": "code",
   "execution_count": 42,
   "id": "2c726157-94e2-452b-bc53-d4047917ad96",
   "metadata": {},
   "outputs": [],
   "source": [
    "# Selecting features (X) by dropping the target variable\n",
    "# In this case, we are dropping 'Patient's Vital Status_Living' and 'Overall Survival Status_Living' from the feature set.\n",
    "X = data.drop(columns=[\"Patient's Vital Status_Living\", \"Overall Survival Status_Living\"])\n",
    "\n",
    "# Selecting the target variable (y), which is the 'Patient's Vital Status_Living' column.\n",
    "y = data[\"Patient's Vital Status_Living\"]"
   ]
  },
  {
   "cell_type": "code",
   "execution_count": 43,
   "id": "a6f1dfea-6399-4369-9f31-4ae40616342a",
   "metadata": {},
   "outputs": [],
   "source": [
    "# Split the dataset into training and testing sets.\n",
    "# - X_train: Features for the training set\n",
    "# - X_test: Features for the testing set\n",
    "# - y_train: Target variable for the training set\n",
    "# - y_test: Target variable for the testing set\n",
    "# The test_size parameter specifies the proportion of the dataset to include in the test split (30% in this case).\n",
    "# random_state is set to ensure reproducibility of the split (the same split will occur each time the code is run).\n",
    "X_train, X_test, y_train, y_test = train_test_split(X, y, test_size=0.3, random_state=42)"
   ]
  },
  {
   "cell_type": "code",
   "execution_count": 44,
   "id": "6afd91fb-b6e8-4a50-894f-b5e7523a5115",
   "metadata": {},
   "outputs": [],
   "source": [
    "# Initialize the StandardScaler.\n",
    "scaler = StandardScaler()\n",
    "\n",
    "# Fit the scaler to the training data and transform it.\n",
    "X_train_scaled = scaler.fit_transform(X_train)\n",
    "\n",
    "# This ensures that the test set is scaled consistently with the training set.\n",
    "X_test_scaled = scaler.transform(X_test)"
   ]
  },
  {
   "cell_type": "markdown",
   "id": "a9743e17-84ae-48a8-8fb4-21b7002f47c1",
   "metadata": {},
   "source": [
    "# Model Building"
   ]
  },
  {
   "cell_type": "markdown",
   "id": "14cd7b87-deb9-451f-9cae-e5d5045d92c4",
   "metadata": {},
   "source": [
    "## Model 1: Logistic Regression"
   ]
  },
  {
   "cell_type": "code",
   "execution_count": 45,
   "id": "cbe4bf79-fe38-4fbb-a713-e65768189397",
   "metadata": {},
   "outputs": [
    {
     "data": {
      "text/html": [
       "<style>#sk-container-id-1 {\n",
       "  /* Definition of color scheme common for light and dark mode */\n",
       "  --sklearn-color-text: black;\n",
       "  --sklearn-color-line: gray;\n",
       "  /* Definition of color scheme for unfitted estimators */\n",
       "  --sklearn-color-unfitted-level-0: #fff5e6;\n",
       "  --sklearn-color-unfitted-level-1: #f6e4d2;\n",
       "  --sklearn-color-unfitted-level-2: #ffe0b3;\n",
       "  --sklearn-color-unfitted-level-3: chocolate;\n",
       "  /* Definition of color scheme for fitted estimators */\n",
       "  --sklearn-color-fitted-level-0: #f0f8ff;\n",
       "  --sklearn-color-fitted-level-1: #d4ebff;\n",
       "  --sklearn-color-fitted-level-2: #b3dbfd;\n",
       "  --sklearn-color-fitted-level-3: cornflowerblue;\n",
       "\n",
       "  /* Specific color for light theme */\n",
       "  --sklearn-color-text-on-default-background: var(--sg-text-color, var(--theme-code-foreground, var(--jp-content-font-color1, black)));\n",
       "  --sklearn-color-background: var(--sg-background-color, var(--theme-background, var(--jp-layout-color0, white)));\n",
       "  --sklearn-color-border-box: var(--sg-text-color, var(--theme-code-foreground, var(--jp-content-font-color1, black)));\n",
       "  --sklearn-color-icon: #696969;\n",
       "\n",
       "  @media (prefers-color-scheme: dark) {\n",
       "    /* Redefinition of color scheme for dark theme */\n",
       "    --sklearn-color-text-on-default-background: var(--sg-text-color, var(--theme-code-foreground, var(--jp-content-font-color1, white)));\n",
       "    --sklearn-color-background: var(--sg-background-color, var(--theme-background, var(--jp-layout-color0, #111)));\n",
       "    --sklearn-color-border-box: var(--sg-text-color, var(--theme-code-foreground, var(--jp-content-font-color1, white)));\n",
       "    --sklearn-color-icon: #878787;\n",
       "  }\n",
       "}\n",
       "\n",
       "#sk-container-id-1 {\n",
       "  color: var(--sklearn-color-text);\n",
       "}\n",
       "\n",
       "#sk-container-id-1 pre {\n",
       "  padding: 0;\n",
       "}\n",
       "\n",
       "#sk-container-id-1 input.sk-hidden--visually {\n",
       "  border: 0;\n",
       "  clip: rect(1px 1px 1px 1px);\n",
       "  clip: rect(1px, 1px, 1px, 1px);\n",
       "  height: 1px;\n",
       "  margin: -1px;\n",
       "  overflow: hidden;\n",
       "  padding: 0;\n",
       "  position: absolute;\n",
       "  width: 1px;\n",
       "}\n",
       "\n",
       "#sk-container-id-1 div.sk-dashed-wrapped {\n",
       "  border: 1px dashed var(--sklearn-color-line);\n",
       "  margin: 0 0.4em 0.5em 0.4em;\n",
       "  box-sizing: border-box;\n",
       "  padding-bottom: 0.4em;\n",
       "  background-color: var(--sklearn-color-background);\n",
       "}\n",
       "\n",
       "#sk-container-id-1 div.sk-container {\n",
       "  /* jupyter's `normalize.less` sets `[hidden] { display: none; }`\n",
       "     but bootstrap.min.css set `[hidden] { display: none !important; }`\n",
       "     so we also need the `!important` here to be able to override the\n",
       "     default hidden behavior on the sphinx rendered scikit-learn.org.\n",
       "     See: https://github.com/scikit-learn/scikit-learn/issues/21755 */\n",
       "  display: inline-block !important;\n",
       "  position: relative;\n",
       "}\n",
       "\n",
       "#sk-container-id-1 div.sk-text-repr-fallback {\n",
       "  display: none;\n",
       "}\n",
       "\n",
       "div.sk-parallel-item,\n",
       "div.sk-serial,\n",
       "div.sk-item {\n",
       "  /* draw centered vertical line to link estimators */\n",
       "  background-image: linear-gradient(var(--sklearn-color-text-on-default-background), var(--sklearn-color-text-on-default-background));\n",
       "  background-size: 2px 100%;\n",
       "  background-repeat: no-repeat;\n",
       "  background-position: center center;\n",
       "}\n",
       "\n",
       "/* Parallel-specific style estimator block */\n",
       "\n",
       "#sk-container-id-1 div.sk-parallel-item::after {\n",
       "  content: \"\";\n",
       "  width: 100%;\n",
       "  border-bottom: 2px solid var(--sklearn-color-text-on-default-background);\n",
       "  flex-grow: 1;\n",
       "}\n",
       "\n",
       "#sk-container-id-1 div.sk-parallel {\n",
       "  display: flex;\n",
       "  align-items: stretch;\n",
       "  justify-content: center;\n",
       "  background-color: var(--sklearn-color-background);\n",
       "  position: relative;\n",
       "}\n",
       "\n",
       "#sk-container-id-1 div.sk-parallel-item {\n",
       "  display: flex;\n",
       "  flex-direction: column;\n",
       "}\n",
       "\n",
       "#sk-container-id-1 div.sk-parallel-item:first-child::after {\n",
       "  align-self: flex-end;\n",
       "  width: 50%;\n",
       "}\n",
       "\n",
       "#sk-container-id-1 div.sk-parallel-item:last-child::after {\n",
       "  align-self: flex-start;\n",
       "  width: 50%;\n",
       "}\n",
       "\n",
       "#sk-container-id-1 div.sk-parallel-item:only-child::after {\n",
       "  width: 0;\n",
       "}\n",
       "\n",
       "/* Serial-specific style estimator block */\n",
       "\n",
       "#sk-container-id-1 div.sk-serial {\n",
       "  display: flex;\n",
       "  flex-direction: column;\n",
       "  align-items: center;\n",
       "  background-color: var(--sklearn-color-background);\n",
       "  padding-right: 1em;\n",
       "  padding-left: 1em;\n",
       "}\n",
       "\n",
       "\n",
       "/* Toggleable style: style used for estimator/Pipeline/ColumnTransformer box that is\n",
       "clickable and can be expanded/collapsed.\n",
       "- Pipeline and ColumnTransformer use this feature and define the default style\n",
       "- Estimators will overwrite some part of the style using the `sk-estimator` class\n",
       "*/\n",
       "\n",
       "/* Pipeline and ColumnTransformer style (default) */\n",
       "\n",
       "#sk-container-id-1 div.sk-toggleable {\n",
       "  /* Default theme specific background. It is overwritten whether we have a\n",
       "  specific estimator or a Pipeline/ColumnTransformer */\n",
       "  background-color: var(--sklearn-color-background);\n",
       "}\n",
       "\n",
       "/* Toggleable label */\n",
       "#sk-container-id-1 label.sk-toggleable__label {\n",
       "  cursor: pointer;\n",
       "  display: block;\n",
       "  width: 100%;\n",
       "  margin-bottom: 0;\n",
       "  padding: 0.5em;\n",
       "  box-sizing: border-box;\n",
       "  text-align: center;\n",
       "}\n",
       "\n",
       "#sk-container-id-1 label.sk-toggleable__label-arrow:before {\n",
       "  /* Arrow on the left of the label */\n",
       "  content: \"▸\";\n",
       "  float: left;\n",
       "  margin-right: 0.25em;\n",
       "  color: var(--sklearn-color-icon);\n",
       "}\n",
       "\n",
       "#sk-container-id-1 label.sk-toggleable__label-arrow:hover:before {\n",
       "  color: var(--sklearn-color-text);\n",
       "}\n",
       "\n",
       "/* Toggleable content - dropdown */\n",
       "\n",
       "#sk-container-id-1 div.sk-toggleable__content {\n",
       "  max-height: 0;\n",
       "  max-width: 0;\n",
       "  overflow: hidden;\n",
       "  text-align: left;\n",
       "  /* unfitted */\n",
       "  background-color: var(--sklearn-color-unfitted-level-0);\n",
       "}\n",
       "\n",
       "#sk-container-id-1 div.sk-toggleable__content.fitted {\n",
       "  /* fitted */\n",
       "  background-color: var(--sklearn-color-fitted-level-0);\n",
       "}\n",
       "\n",
       "#sk-container-id-1 div.sk-toggleable__content pre {\n",
       "  margin: 0.2em;\n",
       "  border-radius: 0.25em;\n",
       "  color: var(--sklearn-color-text);\n",
       "  /* unfitted */\n",
       "  background-color: var(--sklearn-color-unfitted-level-0);\n",
       "}\n",
       "\n",
       "#sk-container-id-1 div.sk-toggleable__content.fitted pre {\n",
       "  /* unfitted */\n",
       "  background-color: var(--sklearn-color-fitted-level-0);\n",
       "}\n",
       "\n",
       "#sk-container-id-1 input.sk-toggleable__control:checked~div.sk-toggleable__content {\n",
       "  /* Expand drop-down */\n",
       "  max-height: 200px;\n",
       "  max-width: 100%;\n",
       "  overflow: auto;\n",
       "}\n",
       "\n",
       "#sk-container-id-1 input.sk-toggleable__control:checked~label.sk-toggleable__label-arrow:before {\n",
       "  content: \"▾\";\n",
       "}\n",
       "\n",
       "/* Pipeline/ColumnTransformer-specific style */\n",
       "\n",
       "#sk-container-id-1 div.sk-label input.sk-toggleable__control:checked~label.sk-toggleable__label {\n",
       "  color: var(--sklearn-color-text);\n",
       "  background-color: var(--sklearn-color-unfitted-level-2);\n",
       "}\n",
       "\n",
       "#sk-container-id-1 div.sk-label.fitted input.sk-toggleable__control:checked~label.sk-toggleable__label {\n",
       "  background-color: var(--sklearn-color-fitted-level-2);\n",
       "}\n",
       "\n",
       "/* Estimator-specific style */\n",
       "\n",
       "/* Colorize estimator box */\n",
       "#sk-container-id-1 div.sk-estimator input.sk-toggleable__control:checked~label.sk-toggleable__label {\n",
       "  /* unfitted */\n",
       "  background-color: var(--sklearn-color-unfitted-level-2);\n",
       "}\n",
       "\n",
       "#sk-container-id-1 div.sk-estimator.fitted input.sk-toggleable__control:checked~label.sk-toggleable__label {\n",
       "  /* fitted */\n",
       "  background-color: var(--sklearn-color-fitted-level-2);\n",
       "}\n",
       "\n",
       "#sk-container-id-1 div.sk-label label.sk-toggleable__label,\n",
       "#sk-container-id-1 div.sk-label label {\n",
       "  /* The background is the default theme color */\n",
       "  color: var(--sklearn-color-text-on-default-background);\n",
       "}\n",
       "\n",
       "/* On hover, darken the color of the background */\n",
       "#sk-container-id-1 div.sk-label:hover label.sk-toggleable__label {\n",
       "  color: var(--sklearn-color-text);\n",
       "  background-color: var(--sklearn-color-unfitted-level-2);\n",
       "}\n",
       "\n",
       "/* Label box, darken color on hover, fitted */\n",
       "#sk-container-id-1 div.sk-label.fitted:hover label.sk-toggleable__label.fitted {\n",
       "  color: var(--sklearn-color-text);\n",
       "  background-color: var(--sklearn-color-fitted-level-2);\n",
       "}\n",
       "\n",
       "/* Estimator label */\n",
       "\n",
       "#sk-container-id-1 div.sk-label label {\n",
       "  font-family: monospace;\n",
       "  font-weight: bold;\n",
       "  display: inline-block;\n",
       "  line-height: 1.2em;\n",
       "}\n",
       "\n",
       "#sk-container-id-1 div.sk-label-container {\n",
       "  text-align: center;\n",
       "}\n",
       "\n",
       "/* Estimator-specific */\n",
       "#sk-container-id-1 div.sk-estimator {\n",
       "  font-family: monospace;\n",
       "  border: 1px dotted var(--sklearn-color-border-box);\n",
       "  border-radius: 0.25em;\n",
       "  box-sizing: border-box;\n",
       "  margin-bottom: 0.5em;\n",
       "  /* unfitted */\n",
       "  background-color: var(--sklearn-color-unfitted-level-0);\n",
       "}\n",
       "\n",
       "#sk-container-id-1 div.sk-estimator.fitted {\n",
       "  /* fitted */\n",
       "  background-color: var(--sklearn-color-fitted-level-0);\n",
       "}\n",
       "\n",
       "/* on hover */\n",
       "#sk-container-id-1 div.sk-estimator:hover {\n",
       "  /* unfitted */\n",
       "  background-color: var(--sklearn-color-unfitted-level-2);\n",
       "}\n",
       "\n",
       "#sk-container-id-1 div.sk-estimator.fitted:hover {\n",
       "  /* fitted */\n",
       "  background-color: var(--sklearn-color-fitted-level-2);\n",
       "}\n",
       "\n",
       "/* Specification for estimator info (e.g. \"i\" and \"?\") */\n",
       "\n",
       "/* Common style for \"i\" and \"?\" */\n",
       "\n",
       ".sk-estimator-doc-link,\n",
       "a:link.sk-estimator-doc-link,\n",
       "a:visited.sk-estimator-doc-link {\n",
       "  float: right;\n",
       "  font-size: smaller;\n",
       "  line-height: 1em;\n",
       "  font-family: monospace;\n",
       "  background-color: var(--sklearn-color-background);\n",
       "  border-radius: 1em;\n",
       "  height: 1em;\n",
       "  width: 1em;\n",
       "  text-decoration: none !important;\n",
       "  margin-left: 1ex;\n",
       "  /* unfitted */\n",
       "  border: var(--sklearn-color-unfitted-level-1) 1pt solid;\n",
       "  color: var(--sklearn-color-unfitted-level-1);\n",
       "}\n",
       "\n",
       ".sk-estimator-doc-link.fitted,\n",
       "a:link.sk-estimator-doc-link.fitted,\n",
       "a:visited.sk-estimator-doc-link.fitted {\n",
       "  /* fitted */\n",
       "  border: var(--sklearn-color-fitted-level-1) 1pt solid;\n",
       "  color: var(--sklearn-color-fitted-level-1);\n",
       "}\n",
       "\n",
       "/* On hover */\n",
       "div.sk-estimator:hover .sk-estimator-doc-link:hover,\n",
       ".sk-estimator-doc-link:hover,\n",
       "div.sk-label-container:hover .sk-estimator-doc-link:hover,\n",
       ".sk-estimator-doc-link:hover {\n",
       "  /* unfitted */\n",
       "  background-color: var(--sklearn-color-unfitted-level-3);\n",
       "  color: var(--sklearn-color-background);\n",
       "  text-decoration: none;\n",
       "}\n",
       "\n",
       "div.sk-estimator.fitted:hover .sk-estimator-doc-link.fitted:hover,\n",
       ".sk-estimator-doc-link.fitted:hover,\n",
       "div.sk-label-container:hover .sk-estimator-doc-link.fitted:hover,\n",
       ".sk-estimator-doc-link.fitted:hover {\n",
       "  /* fitted */\n",
       "  background-color: var(--sklearn-color-fitted-level-3);\n",
       "  color: var(--sklearn-color-background);\n",
       "  text-decoration: none;\n",
       "}\n",
       "\n",
       "/* Span, style for the box shown on hovering the info icon */\n",
       ".sk-estimator-doc-link span {\n",
       "  display: none;\n",
       "  z-index: 9999;\n",
       "  position: relative;\n",
       "  font-weight: normal;\n",
       "  right: .2ex;\n",
       "  padding: .5ex;\n",
       "  margin: .5ex;\n",
       "  width: min-content;\n",
       "  min-width: 20ex;\n",
       "  max-width: 50ex;\n",
       "  color: var(--sklearn-color-text);\n",
       "  box-shadow: 2pt 2pt 4pt #999;\n",
       "  /* unfitted */\n",
       "  background: var(--sklearn-color-unfitted-level-0);\n",
       "  border: .5pt solid var(--sklearn-color-unfitted-level-3);\n",
       "}\n",
       "\n",
       ".sk-estimator-doc-link.fitted span {\n",
       "  /* fitted */\n",
       "  background: var(--sklearn-color-fitted-level-0);\n",
       "  border: var(--sklearn-color-fitted-level-3);\n",
       "}\n",
       "\n",
       ".sk-estimator-doc-link:hover span {\n",
       "  display: block;\n",
       "}\n",
       "\n",
       "/* \"?\"-specific style due to the `<a>` HTML tag */\n",
       "\n",
       "#sk-container-id-1 a.estimator_doc_link {\n",
       "  float: right;\n",
       "  font-size: 1rem;\n",
       "  line-height: 1em;\n",
       "  font-family: monospace;\n",
       "  background-color: var(--sklearn-color-background);\n",
       "  border-radius: 1rem;\n",
       "  height: 1rem;\n",
       "  width: 1rem;\n",
       "  text-decoration: none;\n",
       "  /* unfitted */\n",
       "  color: var(--sklearn-color-unfitted-level-1);\n",
       "  border: var(--sklearn-color-unfitted-level-1) 1pt solid;\n",
       "}\n",
       "\n",
       "#sk-container-id-1 a.estimator_doc_link.fitted {\n",
       "  /* fitted */\n",
       "  border: var(--sklearn-color-fitted-level-1) 1pt solid;\n",
       "  color: var(--sklearn-color-fitted-level-1);\n",
       "}\n",
       "\n",
       "/* On hover */\n",
       "#sk-container-id-1 a.estimator_doc_link:hover {\n",
       "  /* unfitted */\n",
       "  background-color: var(--sklearn-color-unfitted-level-3);\n",
       "  color: var(--sklearn-color-background);\n",
       "  text-decoration: none;\n",
       "}\n",
       "\n",
       "#sk-container-id-1 a.estimator_doc_link.fitted:hover {\n",
       "  /* fitted */\n",
       "  background-color: var(--sklearn-color-fitted-level-3);\n",
       "}\n",
       "</style><div id=\"sk-container-id-1\" class=\"sk-top-container\"><div class=\"sk-text-repr-fallback\"><pre>LogisticRegression()</pre><b>In a Jupyter environment, please rerun this cell to show the HTML representation or trust the notebook. <br />On GitHub, the HTML representation is unable to render, please try loading this page with nbviewer.org.</b></div><div class=\"sk-container\" hidden><div class=\"sk-item\"><div class=\"sk-estimator fitted sk-toggleable\"><input class=\"sk-toggleable__control sk-hidden--visually\" id=\"sk-estimator-id-1\" type=\"checkbox\" checked><label for=\"sk-estimator-id-1\" class=\"sk-toggleable__label fitted sk-toggleable__label-arrow fitted\">&nbsp;&nbsp;LogisticRegression<a class=\"sk-estimator-doc-link fitted\" rel=\"noreferrer\" target=\"_blank\" href=\"https://scikit-learn.org/1.5/modules/generated/sklearn.linear_model.LogisticRegression.html\">?<span>Documentation for LogisticRegression</span></a><span class=\"sk-estimator-doc-link fitted\">i<span>Fitted</span></span></label><div class=\"sk-toggleable__content fitted\"><pre>LogisticRegression()</pre></div> </div></div></div></div>"
      ],
      "text/plain": [
       "LogisticRegression()"
      ]
     },
     "execution_count": 45,
     "metadata": {},
     "output_type": "execute_result"
    }
   ],
   "source": [
    "# Initialize the Logistic Regression model.\n",
    "model1 = LogisticRegression()\n",
    "\n",
    "# Fit the model to the training data (X_train and y_train).\n",
    "# This trains the model using the features (X_train) to predict the target variable (y_train).\n",
    "model1.fit(X_train, y_train)"
   ]
  },
  {
   "cell_type": "code",
   "execution_count": 46,
   "id": "4af022a7-b7c4-4e57-9e4e-8cf09f882bb3",
   "metadata": {},
   "outputs": [],
   "source": [
    "# Use the trained logistic regression model to make predictions on the test set.\n",
    "# X_test contains the features for which we want to predict the target variable (y).\n",
    "y_test_pred = model1.predict(X_test)"
   ]
  },
  {
   "cell_type": "code",
   "execution_count": 47,
   "id": "f62b4dce-6087-4a40-ab7d-e271a62d3c0e",
   "metadata": {},
   "outputs": [
    {
     "name": "stdout",
     "output_type": "stream",
     "text": [
      "              precision    recall  f1-score   support\n",
      "\n",
      "       False       0.94      0.93      0.93       353\n",
      "        True       0.94      0.94      0.94       400\n",
      "\n",
      "    accuracy                           0.94       753\n",
      "   macro avg       0.94      0.94      0.94       753\n",
      "weighted avg       0.94      0.94      0.94       753\n",
      "\n"
     ]
    }
   ],
   "source": [
    "# Generate and print a classification report to evaluate the model's performance.\n",
    "# The report includes metrics such as precision, recall, F1-score, and support for each class.\n",
    "print(classification_report(y_test, y_test_pred))"
   ]
  },
  {
   "cell_type": "code",
   "execution_count": 48,
   "id": "47a3905b-1326-49ca-8569-1edea23822da",
   "metadata": {},
   "outputs": [
    {
     "name": "stdout",
     "output_type": "stream",
     "text": [
      "ROC AUC Score: 0.9385056657223796\n"
     ]
    }
   ],
   "source": [
    "# Calculate the ROC AUC score to evaluate the performance of the model.\n",
    "# y_test contains the true labels, and y_test_pred contains the predicted labels.\n",
    "roc_auc = roc_auc_score(y_test, y_test_pred)\n",
    "\n",
    "# Print the ROC AUC score.\n",
    "print(\"ROC AUC Score:\", roc_auc)"
   ]
  },
  {
   "cell_type": "code",
   "execution_count": 49,
   "id": "04fc5511-0537-4ef9-a6d8-11237025ddfa",
   "metadata": {},
   "outputs": [
    {
     "name": "stdout",
     "output_type": "stream",
     "text": [
      "[[329  24]\n",
      " [ 22 378]]\n"
     ]
    }
   ],
   "source": [
    "# Calculate the confusion matrix to evaluate the model's predictions.\n",
    "# y_test contains the true labels, and y_test_pred contains the predicted labels.\n",
    "conf_matrix = confusion_matrix(y_test, y_test_pred)\n",
    "\n",
    "# Print the confusion matrix.\n",
    "print(conf_matrix)"
   ]
  },
  {
   "cell_type": "markdown",
   "id": "56fc7b16-6276-4e94-9c05-96f9c8091a1e",
   "metadata": {},
   "source": [
    "## Model 2: Decision Tree Classifier"
   ]
  },
  {
   "cell_type": "code",
   "execution_count": 50,
   "id": "4b5df825-4880-4fa5-bab3-16322d5b2ab5",
   "metadata": {},
   "outputs": [],
   "source": [
    "# Initialize the Decision Tree Classifier.\n",
    "dtc = DecisionTreeClassifier()\n",
    "\n",
    "# Fit the decision tree classifier to the training data (X_train and y_train).\n",
    "# This trains the model using the features (X_train) to predict the target variable (y_train).\n",
    "model2 = dtc.fit(X_train, y_train)"
   ]
  },
  {
   "cell_type": "code",
   "execution_count": 51,
   "id": "e133ca65-4ed1-4a52-96df-ed744728fd39",
   "metadata": {},
   "outputs": [],
   "source": [
    "# Use the trained decision tree classifier to make predictions on the test set.\n",
    "# X_test contains the features for which we want to predict the target variable (y).\n",
    "y_test_pred = model2.predict(X_test)"
   ]
  },
  {
   "cell_type": "code",
   "execution_count": 52,
   "id": "b38246cc-6f10-4889-929e-88bc3fc8a7a6",
   "metadata": {},
   "outputs": [
    {
     "name": "stdout",
     "output_type": "stream",
     "text": [
      "              precision    recall  f1-score   support\n",
      "\n",
      "       False       0.95      0.95      0.95       353\n",
      "        True       0.96      0.96      0.96       400\n",
      "\n",
      "    accuracy                           0.96       753\n",
      "   macro avg       0.96      0.96      0.96       753\n",
      "weighted avg       0.96      0.96      0.96       753\n",
      "\n"
     ]
    }
   ],
   "source": [
    "# Generate and print a classification report to evaluate the model's performance.\n",
    "# The report includes metrics such as precision, recall, F1-score, and support for each class.\n",
    "print(metrics.classification_report(y_test, y_test_pred))"
   ]
  },
  {
   "cell_type": "markdown",
   "id": "63840b9b-b318-4b2b-92c6-62b6bf078ba0",
   "metadata": {},
   "source": [
    "## Model 3: Random Forest Classifier"
   ]
  },
  {
   "cell_type": "code",
   "execution_count": 53,
   "id": "2755b309-66ba-4bdc-9a1b-a49fdba53cd5",
   "metadata": {},
   "outputs": [],
   "source": [
    "# Initialize the Random Forest Classifier.\n",
    "rfc = RandomForestClassifier()\n",
    "\n",
    "# Fit the random forest classifier to the training data (X_train and y_train).\n",
    "# This trains the model using the features (X_train) to predict the target variable (y_train).\n",
    "model3 = rfc.fit(X_train, y_train)\n",
    "\n",
    "# Use the trained random forest classifier to make predictions on the test set.\n",
    "# X_test contains the features for which we want to predict the target variable (y).\n",
    "y_test_pred2 = model3.predict(X_test)"
   ]
  },
  {
   "cell_type": "code",
   "execution_count": 54,
   "id": "e64384d6-636c-4759-b1b1-349c334161ba",
   "metadata": {},
   "outputs": [
    {
     "name": "stdout",
     "output_type": "stream",
     "text": [
      "              precision    recall  f1-score   support\n",
      "\n",
      "       False       0.94      0.97      0.96       353\n",
      "        True       0.97      0.95      0.96       400\n",
      "\n",
      "    accuracy                           0.96       753\n",
      "   macro avg       0.96      0.96      0.96       753\n",
      "weighted avg       0.96      0.96      0.96       753\n",
      "\n"
     ]
    }
   ],
   "source": [
    "# Generate and print a classification report to evaluate the model's performance.\n",
    "# The report includes metrics such as precision, recall, F1-score, and support for each class.\n",
    "print(metrics.classification_report(y_test, y_test_pred2))"
   ]
  },
  {
   "cell_type": "markdown",
   "id": "49cd8936-7fa9-4636-abb4-eb024e2ccc25",
   "metadata": {},
   "source": [
    "## Model 4: Gradient Boosting Classifier"
   ]
  },
  {
   "cell_type": "code",
   "execution_count": 55,
   "id": "f064f1f2-1506-4958-972e-8f9920adb7a6",
   "metadata": {},
   "outputs": [],
   "source": [
    "# Initialize the Gradient Boosting Classifier.\n",
    "gbc = GradientBoostingClassifier()\n",
    "\n",
    "# Fit the gradient boosting classifier to the training data (X_train and y_train).\n",
    "# This trains the model using the features (X_train) to predict the target variable (y_train).\n",
    "model4 = gbc.fit(X_train, y_train)\n",
    "\n",
    "# Use the trained gradient boosting classifier to make predictions on the test set.\n",
    "# X_test contains the features for which we want to predict the target variable (y).\n",
    "y_test_pred3 = model4.predict(X_test)"
   ]
  },
  {
   "cell_type": "code",
   "execution_count": 56,
   "id": "29c0a483-f861-4b42-b282-5c67d04ca615",
   "metadata": {},
   "outputs": [
    {
     "name": "stdout",
     "output_type": "stream",
     "text": [
      "              precision    recall  f1-score   support\n",
      "\n",
      "       False       0.98      0.97      0.97       353\n",
      "        True       0.97      0.98      0.98       400\n",
      "\n",
      "    accuracy                           0.97       753\n",
      "   macro avg       0.97      0.97      0.97       753\n",
      "weighted avg       0.97      0.97      0.97       753\n",
      "\n"
     ]
    }
   ],
   "source": [
    "# Generate and print a classification report to evaluate the model's performance.\n",
    "# The report includes metrics such as precision, recall, F1-score, and support for each class.\n",
    "print(metrics.classification_report(y_test ,y_test_pred3))"
   ]
  },
  {
   "cell_type": "markdown",
   "id": "d1c4abee-a0f9-4c91-81b5-40873659207b",
   "metadata": {},
   "source": [
    "## Model 5: Support Vector Machine (SVM)"
   ]
  },
  {
   "cell_type": "code",
   "execution_count": 57,
   "id": "775ad5e2-fc31-4afe-8f2a-4ff62f4acac2",
   "metadata": {},
   "outputs": [],
   "source": [
    "# Initialize the Support Vector Classifier with a linear kernel.\n",
    "svc = SVC(kernel=\"linear\")\n",
    "\n",
    "# Fit the support vector classifier to the training data (X_train and y_train).\n",
    "# This trains the model using the features (X_train) to predict the target variable (y_train).\n",
    "model5 = svc.fit(X_train, y_train)\n",
    "\n",
    "# Use the trained support vector classifier to make predictions on the test set.\n",
    "# X_test contains the features for which we want to predict the target variable (y).\n",
    "y_test_pred = model5.predict(X_test)"
   ]
  },
  {
   "cell_type": "code",
   "execution_count": 58,
   "id": "6cffed34-6de7-4ebe-9e39-9795f5ddd97f",
   "metadata": {},
   "outputs": [
    {
     "name": "stdout",
     "output_type": "stream",
     "text": [
      "              precision    recall  f1-score   support\n",
      "\n",
      "       False       0.96      0.96      0.96       353\n",
      "        True       0.97      0.96      0.97       400\n",
      "\n",
      "    accuracy                           0.96       753\n",
      "   macro avg       0.96      0.96      0.96       753\n",
      "weighted avg       0.96      0.96      0.96       753\n",
      "\n"
     ]
    }
   ],
   "source": [
    "# Generate and print a classification report to evaluate the model's performance.\n",
    "# The report includes metrics such as precision, recall, F1-score, and support for each class.\n",
    "print(metrics.classification_report(y_test, y_test_pred))"
   ]
  },
  {
   "cell_type": "markdown",
   "id": "e2e85633-4b21-4305-ae6d-f9b491eabdac",
   "metadata": {},
   "source": [
    "## Model 6: K-Nearest Neighbors Classifier (KNN)"
   ]
  },
  {
   "cell_type": "code",
   "execution_count": 59,
   "id": "9e0cb87b-5817-4ab5-8a03-8e57d0f83f45",
   "metadata": {},
   "outputs": [],
   "source": [
    "# Initialize the K-Nearest Neighbors Classifier with k=1 (one nearest neighbor).\n",
    "knn = KNeighborsClassifier(n_neighbors=1)\n",
    "\n",
    "# Fit the KNN classifier to the training data (X_train and y_train).\n",
    "# This trains the model using the features (X_train) to predict the target variable (y_train).\n",
    "model6 = knn.fit(X_train, y_train)\n",
    "\n",
    "# Use the trained KNN classifier to make predictions on the test set.\n",
    "# X_test contains the features for which we want to predict the target variable (y).\n",
    "y_test_pred = model6.predict(X_test)"
   ]
  },
  {
   "cell_type": "code",
   "execution_count": 60,
   "id": "089c7878-9acb-4cf2-8320-69ec4e0cc21f",
   "metadata": {},
   "outputs": [
    {
     "name": "stdout",
     "output_type": "stream",
     "text": [
      "              precision    recall  f1-score   support\n",
      "\n",
      "       False       0.73      0.71      0.72       353\n",
      "        True       0.75      0.77      0.76       400\n",
      "\n",
      "    accuracy                           0.74       753\n",
      "   macro avg       0.74      0.74      0.74       753\n",
      "weighted avg       0.74      0.74      0.74       753\n",
      "\n"
     ]
    }
   ],
   "source": [
    "# Generate and print a classification report to evaluate the model's performance.\n",
    "# The report includes metrics such as precision, recall, F1-score, and support for each class.\n",
    "print(classification_report(y_test ,y_test_pred))"
   ]
  },
  {
   "cell_type": "code",
   "execution_count": 61,
   "id": "ff257a43-c012-455e-99e8-53441cf26352",
   "metadata": {},
   "outputs": [],
   "source": [
    "#pip install streamlit\n"
   ]
  },
  {
   "cell_type": "code",
   "execution_count": 62,
   "id": "82edbe0d-e4a1-4e5f-bbfd-98cac90c3c89",
   "metadata": {},
   "outputs": [
    {
     "name": "stdout",
     "output_type": "stream",
     "text": [
      "joblib version: 1.4.2\n",
      "scikit-learn version: 1.5.2\n"
     ]
    }
   ],
   "source": [
    "import joblib\n",
    "import sklearn\n",
    "\n",
    "print(\"joblib version:\", joblib.__version__)\n",
    "print(\"scikit-learn version:\", sklearn.__version__)\n"
   ]
  },
  {
   "cell_type": "code",
   "execution_count": 63,
   "id": "9d8ef11d-82a8-4e27-86fa-1d81bc409563",
   "metadata": {},
   "outputs": [
    {
     "name": "stdout",
     "output_type": "stream",
     "text": [
      "Found existing installation: joblib 1.4.2\n",
      "Uninstalling joblib-1.4.2:\n",
      "  Successfully uninstalled joblib-1.4.2\n",
      "Collecting joblib\n",
      "  Using cached joblib-1.4.2-py3-none-any.whl.metadata (5.4 kB)\n",
      "Using cached joblib-1.4.2-py3-none-any.whl (301 kB)\n",
      "Installing collected packages: joblib\n",
      "Successfully installed joblib-1.4.2\n"
     ]
    },
    {
     "name": "stderr",
     "output_type": "stream",
     "text": [
      "ERROR: pip's dependency resolver does not currently take into account all the packages that are installed. This behaviour is the source of the following dependency conflicts.\n",
      "pmdarima 2.0.4 requires statsmodels>=0.13.2, which is not installed.\n"
     ]
    }
   ],
   "source": [
    "!pip uninstall joblib -y\n",
    "!pip install joblib\n"
   ]
  },
  {
   "cell_type": "code",
   "execution_count": 64,
   "id": "c9a2e776-c8f9-4111-a2a6-16d45731b945",
   "metadata": {},
   "outputs": [
    {
     "data": {
      "text/plain": [
       "['gradient_boosting_model.joblib']"
      ]
     },
     "execution_count": 64,
     "metadata": {},
     "output_type": "execute_result"
    }
   ],
   "source": [
    "from sklearn.ensemble import GradientBoostingClassifier\n",
    "from joblib import dump, load\n",
    "\n",
    "# Train the Gradient Boosting model\n",
    "model = GradientBoostingClassifier()\n",
    "model.fit(X_train, y_train)\n",
    "\n",
    "# Save the model using joblib\n",
    "dump(model, 'gradient_boosting_model.joblib')"
   ]
  },
  {
   "cell_type": "code",
   "execution_count": 4,
   "id": "11109cfe-6708-46f3-83ab-0d9e3bc824b9",
   "metadata": {},
   "outputs": [
    {
     "name": "stdout",
     "output_type": "stream",
     "text": [
      "Requirement already satisfied: joblib in c:\\users\\admin\\anaconda3\\lib\\site-packages (1.4.2)\n",
      "Note: you may need to restart the kernel to use updated packages.\n"
     ]
    }
   ],
   "source": [
    "pip install joblib"
   ]
  },
  {
   "cell_type": "code",
   "execution_count": 65,
   "id": "ee1933ed-aaa5-41e4-aa5b-b1755b6d2365",
   "metadata": {},
   "outputs": [],
   "source": [
    "from joblib import dump, load\n",
    "# Save the model\n",
    "joblib.dump(model, 'gradient_boosting_model.pkl')\n",
    "\n",
    "# Load the model\n",
    "loaded_model = joblib.load('gradient_boosting_model.pkl')"
   ]
  },
  {
   "cell_type": "code",
   "execution_count": null,
   "id": "287cdc0e-cd62-4ce7-ad41-4e7d54fddc11",
   "metadata": {},
   "outputs": [],
   "source": []
  }
 ],
 "metadata": {
  "kernelspec": {
   "display_name": "Python 3 (ipykernel)",
   "language": "python",
   "name": "python3"
  },
  "language_info": {
   "codemirror_mode": {
    "name": "ipython",
    "version": 3
   },
   "file_extension": ".py",
   "mimetype": "text/x-python",
   "name": "python",
   "nbconvert_exporter": "python",
   "pygments_lexer": "ipython3",
   "version": "3.11.7"
  }
 },
 "nbformat": 4,
 "nbformat_minor": 5
}
